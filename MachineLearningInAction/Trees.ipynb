{
 "cells": [
  {
   "cell_type": "code",
   "execution_count": 8,
   "metadata": {
    "collapsed": true
   },
   "outputs": [],
   "source": [
    "from math import log\n",
    "import operator\n",
    "\n",
    "def calcShannonEnt(dataSet):\n",
    "    numEnt = len(dataSet)\n",
    "    labelCount = {}\n",
    "    for data in dataSet:\n",
    "        labelCount[data[-1]] = labelCount.get(data[-1], 0) + 1\n",
    "    shannonEnt = 0.0\n",
    "    for l in labelCount.values():\n",
    "        shannonEnt -= l / numEnt * log(l / numEnt, 2)\n",
    "    return shannonEnt\n",
    "\n",
    "def createDataSet():\n",
    "    dataSet = [[1, 1, 'yes'], [1, 1, 'yes'], [1, 0, 'no'], [0, 1, 'no'], [0, 1, 'no']]\n",
    "    labels = ['no surfacing', 'flippers']\n",
    "    return dataSet, labels\n",
    "\n",
    "def splitDataSet(dataSet, axis, value):\n",
    "    retDataSet = []\n",
    "    for data in dataSet:\n",
    "        if data[axis] == value:\n",
    "            retData = data[:axis] + data[axis+1:]\n",
    "            retDataSet.append(retData)\n",
    "    return retDataSet\n",
    "def chooseBestFeature(dataSet):\n",
    "    numFeat = len(dataSet[0]) - 1\n",
    "    baseEnt = calcShannonEnt(dataSet)\n",
    "    bestFeat = -1\n",
    "    bestInfoGain = 0.0\n",
    "    for i in range(numFeat):\n",
    "        featValue = [x[i] for x in dataSet]\n",
    "        featValue = set(featValue)\n",
    "        newShannonEnt = 0.0\n",
    "        for val in featValue:\n",
    "            subDataSet = splitDataSet(dataSet, i, val)\n",
    "            prop = len(subDataSet) / len(dataSet)\n",
    "            newShannonEnt += prop * calcShannonEnt(subDataSet)\n",
    "        if baseEnt - newShannonEnt > bestInfoGain:\n",
    "            bestFeat = i\n",
    "            bestInfoGain = baseEnt - newShannonEnt\n",
    "    return bestFeat\n",
    "\n",
    "def majorityCnt(classList):\n",
    "    classCount = {}\n",
    "    for vote in classList:\n",
    "        classCount[vote] = classCount.get(vote, 0) + 1\n",
    "        sortedClassCount = sorted(classCount.items, key = operator.itemgetter(1), reverse=True)\n",
    "    return sortedClassCount[0][0]\n",
    "\n",
    "def createTree(dataSet, labels):\n",
    "    classList = [x[-1] for x in dataSet]\n",
    "    if classList.count(classList[0]) == len(classList):\n",
    "        return classList[0]\n",
    "    if len(dataSet[0]) == 1:\n",
    "        return majorityCnt(classList)\n",
    "    bestFeat = chooseBestFeature(dataSet)\n",
    "    bestFeatLabel = labels[bestFeat]\n",
    "    myTree = {bestFeatLabel: {}}\n",
    "    del(labels[bestFeat])\n",
    "    featValues = [x[bestFeat] for x in dataSet]\n",
    "    featValues = set(featValues)\n",
    "    for val in featValues:\n",
    "        subLabels = labels[:]\n",
    "        myTree[bestFeatLabel][val] = createTree(splitDataSet(dataSet, bestFeat, val), subLabels)\n",
    "    return myTree\n",
    "    \n",
    "    \n",
    "            \n",
    "    "
   ]
  },
  {
   "cell_type": "code",
   "execution_count": 9,
   "metadata": {},
   "outputs": [],
   "source": [
    "myData, labels = createDataSet()\n",
    "myTree = createTree(myData, labels)"
   ]
  },
  {
   "cell_type": "code",
   "execution_count": 10,
   "metadata": {},
   "outputs": [
    {
     "data": {
      "text/plain": [
       "{'no surfacing': {0: 'no', 1: {'flippers': {0: 'no', 1: 'yes'}}}}"
      ]
     },
     "execution_count": 10,
     "metadata": {},
     "output_type": "execute_result"
    }
   ],
   "source": [
    "myTree"
   ]
  },
  {
   "cell_type": "code",
   "execution_count": 5,
   "metadata": {},
   "outputs": [
    {
     "data": {
      "text/plain": [
       "[(0, 0), (1, 2), (2, 1), (3, 4), (4, 3)]"
      ]
     },
     "execution_count": 5,
     "metadata": {},
     "output_type": "execute_result"
    }
   ],
   "source": [
    "# import operator\n",
    "x = {1: 2, 3: 4, 4: 3, 2: 1, 0: 0}\n",
    "sorted_x = sorted(x.items(), key=operator.itemgetter(0))\n",
    "sorted_x"
   ]
  }
 ],
 "metadata": {
  "kernelspec": {
   "display_name": "Python 3",
   "language": "python",
   "name": "python3"
  },
  "language_info": {
   "codemirror_mode": {
    "name": "ipython",
    "version": 3
   },
   "file_extension": ".py",
   "mimetype": "text/x-python",
   "name": "python",
   "nbconvert_exporter": "python",
   "pygments_lexer": "ipython3",
   "version": "3.6.3"
  }
 },
 "nbformat": 4,
 "nbformat_minor": 2
}
